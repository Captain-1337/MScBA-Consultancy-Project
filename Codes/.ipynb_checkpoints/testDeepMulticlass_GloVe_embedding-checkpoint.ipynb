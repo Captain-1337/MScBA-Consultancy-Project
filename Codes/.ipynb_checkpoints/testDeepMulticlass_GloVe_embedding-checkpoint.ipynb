{
 "cells": [
  {
   "cell_type": "markdown",
   "metadata": {},
   "source": [
    "# Import Libraries"
   ]
  },
  {
   "cell_type": "code",
   "execution_count": 3,
   "metadata": {},
   "outputs": [],
   "source": [
    "from keras.preprocessing.text import Tokenizer\n",
    "from keras.preprocessing.sequence import pad_sequences\n",
    "from keras.models import Sequential\n",
    "from keras.layers import Embedding, Flatten, Dense\n",
    "from sklearn.preprocessing import scale\n",
    "from corpora_utils import CorporaHelper,CorporaDomains, CorporaProperties\n",
    "import numpy as np\n",
    "import os\n",
    "import pickle\n",
    "import tensorflow as tf\n",
    "from keras.backend.tensorflow_backend import set_session"
   ]
  },
  {
   "cell_type": "code",
   "execution_count": 7,
   "metadata": {},
   "outputs": [
    {
     "name": "stdout",
     "output_type": "stream",
     "text": [
      "2.1.0\n"
     ]
    }
   ],
   "source": [
    "print(tf.__version__)"
   ]
  },
  {
   "cell_type": "markdown",
   "metadata": {},
   "source": [
    "# GPU Config"
   ]
  },
  {
   "cell_type": "code",
   "execution_count": 14,
   "metadata": {},
   "outputs": [],
   "source": [
    "config = tf.compat.v1.ConfigProto(\n",
    "    gpu_options = tf.compat.v1.GPUOptions(per_process_gpu_memory_fraction=0.8)\n",
    "    # device_count = {'GPU': 1}\n",
    ")\n",
    "config.gpu_options.allow_growth = True\n",
    "session = tf.compat.v1.Session(config=config)\n",
    "tf.compat.v1.keras.backend.set_session(session)"
   ]
  },
  {
   "cell_type": "code",
   "execution_count": null,
   "metadata": {},
   "outputs": [],
   "source": []
  },
  {
   "cell_type": "code",
   "execution_count": 16,
   "metadata": {},
   "outputs": [],
   "source": [
    "#corpus = 'All this not sleeping has a terrible way of playing with your memory.' # fear => test\n",
    "#corpus = \"The Rock is destined to be the 21st Century s new Conan and that he s going to make a splash even greater than Arnold Schwarzenegger , Jean-Claud Van Damme or Steven Segal .\"\n",
    "corpus = 'If you sometimes like to go to the movies to have fun , Wasabi is a good place to start .' # joy \n",
    "# load data\n",
    "labels = []\n",
    "texts = []\n",
    "corpora_helper = CorporaHelper(\"multigenre.csv\")\n",
    "count_joy = 0\n",
    "count_sadness = 0\n",
    "count_anger = 0\n",
    "count_fear = 0\n",
    "number_of_classes: 4\n",
    "max_per_emotion = 240\n",
    "max_data = 4*240"
   ]
  },
  {
   "cell_type": "code",
   "execution_count": 17,
   "metadata": {},
   "outputs": [
    {
     "name": "stdout",
     "output_type": "stream",
     "text": [
      "number of anger labels:  240\n",
      "number of fear labels:  240\n",
      "number of joy labels:  240\n",
      "number of sadness labels:  240\n"
     ]
    }
   ],
   "source": [
    "for index, corpus in corpora_helper.get_data().iterrows():\n",
    "    # only moviereviews\n",
    "    if True or corpus[CorporaProperties.DOMAIN.value] == CorporaDomains.MOVIEREVIEW.value:\n",
    "        # only joy\n",
    "        # only disgust\n",
    "        if corpus[CorporaProperties.EMOTION.value] == 'anger':\n",
    "            if max_per_emotion > count_anger:\n",
    "                texts.append(corpus[CorporaProperties.CLEANED_CORPUS.value])\n",
    "                labels.append(0)\n",
    "                count_anger += 1\n",
    "        elif corpus[CorporaProperties.EMOTION.value] == 'fear':\n",
    "            if max_per_emotion > count_fear:\n",
    "                texts.append(corpus[CorporaProperties.CLEANED_CORPUS.value])\n",
    "                labels.append(1)\n",
    "                count_fear += 1\n",
    "        elif corpus[CorporaProperties.EMOTION.value] == 'joy':\n",
    "            if max_per_emotion > count_joy:\n",
    "                texts.append(corpus[CorporaProperties.CLEANED_CORPUS.value])\n",
    "                labels.append(2)\n",
    "                count_joy += 1\n",
    "        elif corpus[CorporaProperties.EMOTION.value] == 'sadness':\n",
    "            if max_per_emotion > count_sadness:\n",
    "                texts.append(corpus[CorporaProperties.CLEANED_CORPUS.value])\n",
    "                labels.append(3)\n",
    "                count_sadness += 1\n",
    "print('number of anger labels: ',count_anger)\n",
    "print('number of fear labels: ', count_fear)\n",
    "print('number of joy labels: ',count_joy)\n",
    "print('number of sadness labels: ', count_sadness)"
   ]
  },
  {
   "cell_type": "code",
   "execution_count": null,
   "metadata": {},
   "outputs": [],
   "source": [
    "# 0 anger\n",
    "# 1 fear\n",
    "# 2 joy\n",
    "# 3 sadness"
   ]
  },
  {
   "cell_type": "code",
   "execution_count": 18,
   "metadata": {},
   "outputs": [],
   "source": [
    "## Create one hot encoding\n",
    "maxlen = 100 # max. number of words in sequences\n",
    "training_samples = int(max_data * 0.7) #672  70% of 960\n",
    "validation_samples = int(max_data * 0.2) # 192 20% of 960\n",
    "test_samples = int(max_data * 0.1) #96  10% of 960\n",
    "max_words = 10000"
   ]
  },
  {
   "cell_type": "code",
   "execution_count": 19,
   "metadata": {},
   "outputs": [],
   "source": [
    "tokenizer = Tokenizer(num_words=max_words)\n",
    "tokenizer.fit_on_texts(texts)\n",
    "sequences = tokenizer.texts_to_sequences(texts)"
   ]
  },
  {
   "cell_type": "code",
   "execution_count": 20,
   "metadata": {},
   "outputs": [
    {
     "name": "stdout",
     "output_type": "stream",
     "text": [
      "4134 eindeutige Tokens gefunden.\n",
      "Shape of data: (960, 100)\n",
      "Shape of labels: (960,)\n"
     ]
    }
   ],
   "source": [
    "#one_hot_results = tokenizer.texts_to_matrix(samples, mode='binary')\n",
    "#print(one_hot_results)\n",
    "\n",
    "word_index = tokenizer.word_index\n",
    "print ('%s eindeutige Tokens gefunden.' % len(word_index))\n",
    "\n",
    "data = pad_sequences(sequences, maxlen=maxlen)\n",
    "\n",
    "labels = np.asarray(labels)\n",
    "print('Shape of data:', data.shape)\n",
    "print('Shape of labels:', labels.shape)"
   ]
  },
  {
   "cell_type": "code",
   "execution_count": 21,
   "metadata": {},
   "outputs": [],
   "source": [
    "# mix the data\n",
    "indices = np.arange(data.shape[0])\n",
    "np.random.shuffle(indices)\n",
    "data = data[indices]\n",
    "labels = labels[indices]"
   ]
  },
  {
   "cell_type": "code",
   "execution_count": 22,
   "metadata": {},
   "outputs": [],
   "source": [
    "# split in train and validate\n",
    "x_train = data[:training_samples]\n",
    "y_train = labels[:training_samples]\n",
    "x_val = data[training_samples: training_samples + validation_samples]\n",
    "y_val = labels[training_samples: training_samples + validation_samples]\n",
    "x_test = data[training_samples + validation_samples: training_samples + validation_samples + test_samples]\n",
    "y_test = labels[training_samples + validation_samples: training_samples + validation_samples + test_samples]"
   ]
  },
  {
   "cell_type": "code",
   "execution_count": 23,
   "metadata": {},
   "outputs": [
    {
     "name": "stdout",
     "output_type": "stream",
     "text": [
      "Found 400000 word vectors.\n"
     ]
    }
   ],
   "source": [
    "# Read the glove embedding acc. 6.1.3\n",
    "glove_dir = '/Users/COMMANDER/Desktop/MScBA_Consultantcy_Project/GloVe/glove.6B/'\n",
    "embeddings_index = {}\n",
    "f = open(os.path.join(glove_dir, 'glove.6B.100d.txt', ), encoding='utf-8')\n",
    "for line in f:\n",
    "    values = line.split()\n",
    "    word = values[0]\n",
    "    coefs = np.asarray(values[1:], dtype='float32')\n",
    "    embeddings_index[word] = coefs\n",
    "f.close()\n",
    "\n",
    "print('Found %s word vectors.' % len(embeddings_index))"
   ]
  },
  {
   "cell_type": "code",
   "execution_count": 24,
   "metadata": {},
   "outputs": [],
   "source": [
    "# Create embedding matrix\n",
    "embedding_dim = 100\n",
    "word_embedding_matrix = np.zeros((max_words, embedding_dim))\n",
    "for word, i in word_index.items():\n",
    "    embedding_vector = embeddings_index.get(word)\n",
    "    if i < max_words:\n",
    "        if embedding_vector is not None:\n",
    "            # Words not found in embedding index will be all-zeros.\n",
    "            word_embedding_matrix[i] = embedding_vector\n",
    "embedding = Embedding(max_words, embedding_dim, input_length=maxlen)"
   ]
  },
  {
   "cell_type": "code",
   "execution_count": 25,
   "metadata": {},
   "outputs": [
    {
     "name": "stdout",
     "output_type": "stream",
     "text": [
      "Model: \"sequential_1\"\n",
      "_________________________________________________________________\n",
      "Layer (type)                 Output Shape              Param #   \n",
      "=================================================================\n",
      "embedding_1 (Embedding)      (None, 100, 100)          1000000   \n",
      "_________________________________________________________________\n",
      "flatten_1 (Flatten)          (None, 10000)             0         \n",
      "_________________________________________________________________\n",
      "dense_1 (Dense)              (None, 32)                320032    \n",
      "_________________________________________________________________\n",
      "dense_2 (Dense)              (None, 4)                 132       \n",
      "=================================================================\n",
      "Total params: 1,320,164\n",
      "Trainable params: 1,320,164\n",
      "Non-trainable params: 0\n",
      "_________________________________________________________________\n"
     ]
    }
   ],
   "source": [
    "# Create model\n",
    "model = Sequential()\n",
    "model.add(embedding)\n",
    "model.add(Flatten()) #3D to 2D\n",
    "model.add(Dense(32, activation='relu'))\n",
    "model.add(Dense(4, activation='softmax'))\n",
    "model.summary()"
   ]
  },
  {
   "cell_type": "code",
   "execution_count": 31,
   "metadata": {},
   "outputs": [],
   "source": [
    "# Load GloVe embedding\n",
    "model.layers[0].set_weights([word_embedding_matrix])\n",
    "model.layers[0].trainable = False"
   ]
  },
  {
   "cell_type": "code",
   "execution_count": 32,
   "metadata": {},
   "outputs": [
    {
     "name": "stdout",
     "output_type": "stream",
     "text": [
      "Train on 672 samples, validate on 192 samples\n",
      "Epoch 1/10\n",
      "672/672 [==============================] - 0s 213us/step - loss: 0.0945 - acc: 0.9911 - val_loss: 1.5349 - val_acc: 0.4740\n",
      "Epoch 2/10\n",
      "672/672 [==============================] - 0s 92us/step - loss: 0.0568 - acc: 0.9985 - val_loss: 1.7208 - val_acc: 0.4740\n",
      "Epoch 3/10\n",
      "672/672 [==============================] - 0s 94us/step - loss: 0.0365 - acc: 0.9985 - val_loss: 1.6647 - val_acc: 0.4479\n",
      "Epoch 4/10\n",
      "672/672 [==============================] - 0s 94us/step - loss: 0.0277 - acc: 0.9985 - val_loss: 1.7863 - val_acc: 0.4635\n",
      "Epoch 5/10\n",
      "672/672 [==============================] - 0s 103us/step - loss: 0.0218 - acc: 0.9985 - val_loss: 1.8963 - val_acc: 0.4688\n",
      "Epoch 6/10\n",
      "672/672 [==============================] - 0s 97us/step - loss: 0.0173 - acc: 1.0000 - val_loss: 1.9841 - val_acc: 0.4583\n",
      "Epoch 7/10\n",
      "672/672 [==============================] - 0s 92us/step - loss: 0.0144 - acc: 1.0000 - val_loss: 1.9946 - val_acc: 0.4479\n",
      "Epoch 8/10\n",
      "672/672 [==============================] - 0s 95us/step - loss: 0.0121 - acc: 1.0000 - val_loss: 2.0272 - val_acc: 0.4427\n",
      "Epoch 9/10\n",
      "672/672 [==============================] - 0s 92us/step - loss: 0.0105 - acc: 1.0000 - val_loss: 2.0576 - val_acc: 0.4635\n",
      "Epoch 10/10\n",
      "672/672 [==============================] - 0s 95us/step - loss: 0.0092 - acc: 1.0000 - val_loss: 2.1231 - val_acc: 0.4479\n"
     ]
    }
   ],
   "source": [
    "# Train and Evaluate\n",
    "model.compile(optimizer='adam',\n",
    "              loss='sparse_categorical_crossentropy',\n",
    "              metrics=['acc'])\n",
    "history = model.fit(x_train, y_train,\n",
    "                    epochs=10,\n",
    "                    batch_size=32,\n",
    "                    validation_data=(x_val, y_val))\n",
    "model.save_weights('pre_trained_glove_model.h5')"
   ]
  },
  {
   "cell_type": "code",
   "execution_count": 28,
   "metadata": {},
   "outputs": [
    {
     "name": "stdout",
     "output_type": "stream",
     "text": [
      "Evaluate on test data\n",
      "96/96 [==============================] - 0s 21us/step\n",
      "test loss, test acc: [1.419027328491211, 0.4270833432674408]\n"
     ]
    }
   ],
   "source": [
    "# Test model\n",
    "print(\"Evaluate on test data\")\n",
    "model.load_weights('pre_trained_glove_model.h5')\n",
    "results = model.evaluate(x_test, y_test, batch_size=128)\n",
    "print(\"test loss, test acc:\", results)\n",
    "\n",
    "model.save('emotion_deep1.h5')"
   ]
  },
  {
   "cell_type": "code",
   "execution_count": 29,
   "metadata": {},
   "outputs": [
    {
     "name": "stdout",
     "output_type": "stream",
     "text": [
      "I hate you bastard ! Go away !\n",
      "prediction: [[0.15600254 0.39803675 0.3651034  0.0808573 ]]\n",
      "This is a lovely film , but it makes me sad .\n",
      "prediction: [[0.21954595 0.06408259 0.10388834 0.61248314]]\n",
      "That is because - damn it !\n",
      "prediction: [[0.24593471 0.6649296  0.01283935 0.07629627]]\n",
      "Die bitch ! You make me angry .\n",
      "prediction: [[0.15600254 0.39803675 0.3651034  0.0808573 ]]\n",
      "My son died .\n",
      "prediction: [[0.22794805 0.5981325  0.11821465 0.05570481]]\n",
      "I am afraid because of this horror .\n",
      "prediction: [[0.2399421  0.21610497 0.07250064 0.4714523 ]]\n"
     ]
    }
   ],
   "source": [
    "## Example use of the model!\n",
    "test_corpora = ['I hate you bastard ! Go away !', 'This is a lovely film , but it makes me sad .','That is because - damn it !']\n",
    "test_corpora.append('Die bitch ! You make me angry .')\n",
    "test_corpora.append('My son died .')\n",
    "test_corpora.append('I am afraid because of this horror .')\n",
    "for text in test_corpora:\n",
    "    textarray = [text]\n",
    "    tokenizer = Tokenizer(num_words=max_words)\n",
    "    tokenizer.fit_on_texts(textarray)\n",
    "    sequences = tokenizer.texts_to_sequences(textarray)\n",
    "    data = pad_sequences(sequences, maxlen=maxlen)\n",
    "    print(text)\n",
    "    pred = model.predict(data)\n",
    "    print(\"prediction:\", pred)"
   ]
  },
  {
   "cell_type": "code",
   "execution_count": 30,
   "metadata": {},
   "outputs": [
    {
     "data": {
      "image/png": "[encoded data removed]",
      "text/plain": [
       "<Figure size 432x288 with 1 Axes>"
      ]
     },
     "metadata": {
      "needs_background": "light"
     },
     "output_type": "display_data"
    },
    {
     "data": {
      "image/png": "[encoded data removed]",
      "text/plain": [
       "<Figure size 432x288 with 1 Axes>"
      ]
     },
     "metadata": {
      "needs_background": "light"
     },
     "output_type": "display_data"
    }
   ],
   "source": [
    "# Plot performance\n",
    "import matplotlib.pyplot as plt\n",
    "\n",
    "acc = history.history['acc']\n",
    "val_acc = history.history['val_acc']\n",
    "loss = history.history['loss']\n",
    "val_loss = history.history['val_loss']\n",
    "\n",
    "epochs = range(1, len(acc) + 1)\n",
    "\n",
    "plt.plot(epochs, acc, 'bo', label='Training acc')\n",
    "plt.plot(epochs, val_acc, 'b', label='Validation acc')\n",
    "plt.title('Training and validation accuracy')\n",
    "plt.legend()\n",
    "\n",
    "plt.figure()\n",
    "\n",
    "plt.plot(epochs, loss, 'bo', label='Training loss')\n",
    "plt.plot(epochs, val_loss, 'b', label='Validation loss')\n",
    "plt.title('Training and validation loss')\n",
    "plt.legend()\n",
    "\n",
    "plt.show()\n"
   ]
  },
  {
   "cell_type": "code",
   "execution_count": null,
   "metadata": {},
   "outputs": [],
   "source": []
  },
  {
   "cell_type": "code",
   "execution_count": null,
   "metadata": {},
   "outputs": [],
   "source": []
  },
  {
   "cell_type": "code",
   "execution_count": null,
   "metadata": {},
   "outputs": [],
   "source": []
  },
  {
   "cell_type": "code",
   "execution_count": null,
   "metadata": {},
   "outputs": [],
   "source": []
  },
  {
   "cell_type": "code",
   "execution_count": null,
   "metadata": {},
   "outputs": [],
   "source": []
  },
  {
   "cell_type": "code",
   "execution_count": null,
   "metadata": {},
   "outputs": [],
   "source": []
  },
  {
   "cell_type": "code",
   "execution_count": null,
   "metadata": {},
   "outputs": [],
   "source": []
  },
  {
   "cell_type": "code",
   "execution_count": null,
   "metadata": {},
   "outputs": [],
   "source": []
  },
  {
   "cell_type": "code",
   "execution_count": null,
   "metadata": {},
   "outputs": [],
   "source": []
  }
 ],
 "metadata": {
  "kernelspec": {
   "display_name": "gputest",
   "language": "python",
   "name": "gputest"
  },
  "language_info": {
   "codemirror_mode": {
    "name": "ipython",
    "version": 3
   },
   "file_extension": ".py",
   "mimetype": "text/x-python",
   "name": "python",
   "nbconvert_exporter": "python",
   "pygments_lexer": "ipython3",
   "version": "3.7.7"
  }
 },
 "nbformat": 4,
 "nbformat_minor": 4
}
