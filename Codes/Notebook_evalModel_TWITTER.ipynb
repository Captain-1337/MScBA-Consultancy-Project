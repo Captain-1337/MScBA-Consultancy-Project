{
 "cells": [
  {
   "cell_type": "code",
   "execution_count": 39,
   "metadata": {},
   "outputs": [],
   "source": [
    "from keras.models import load_model\n",
    "from keras.preprocessing.text import Tokenizer\n",
    "from keras.preprocessing.sequence import pad_sequences\n",
    "#import tensorflow as tf\n",
    "from sklearn.preprocessing import scale\n",
    "from sklearn.metrics import classification_report, precision_recall_fscore_support\n",
    "import numpy as np\n",
    "from corpora_utils import CorporaHelper,CorporaDomains, CorporaProperties\n",
    "import os\n",
    "import pickle"
   ]
  },
  {
   "cell_type": "code",
   "execution_count": 40,
   "metadata": {},
   "outputs": [],
   "source": [
    "MULTIGENRE = 'muligenre'\n",
    "TWITTER = 'twitter'\n",
    "MG_AND_TWITTER = 'mg_and_twitter'"
   ]
  },
  {
   "cell_type": "code",
   "execution_count": 41,
   "metadata": {},
   "outputs": [
    {
     "name": "stdout",
     "output_type": "stream",
     "text": [
      "Use TWITTER model\n"
     ]
    }
   ],
   "source": [
    "# set wich corpora to use Multigenre or twitter\n",
    "use_mg_model = TWITTER\n",
    "\n",
    "use_mg_coprora = TWITTER\n",
    "\n",
    "tokenizer = None\n",
    "\n",
    "if use_mg_model == MULTIGENRE:\n",
    "    model = load_model('models/model_emotion_detection_multigenre.h5')\n",
    "    tokenizer = pickle.load(open('models/tokenizer_multigenre.pkl', 'rb'))\n",
    "    print(\"Use MULTIGENRE model\")\n",
    "    \n",
    "elif use_mg_model == TWITTER:\n",
    "    model = load_model('models/model_emotion_detection_twitter.h5')\n",
    "    tokenizer = pickle.load(open('models/tokenizer_twitter.pkl', 'rb'))\n",
    "    print(\"Use TWITTER model\")\n",
    "else:\n",
    "    model = load_model('models/model_emotion_detection_multigenre_twitter.h5')\n",
    "    tokenizer = pickle.load(open('models/tokenizer_multigenre_twitter.pkl', 'rb'))\n",
    "    print(\"Use TWITTER and MULTIGENRE model\")"
   ]
  },
  {
   "cell_type": "code",
   "execution_count": 42,
   "metadata": {},
   "outputs": [
    {
     "name": "stdout",
     "output_type": "stream",
     "text": [
      "Use TWITTER test corpora\n",
      "Load:  corpora/twitter_2000_test.csv\n",
      "number of anger labels:  200\n",
      "number of fear labels:  200\n",
      "number of joy labels:  200\n",
      "number of sadness labels:  200\n",
      "----------------------------------------------------------------------\n"
     ]
    }
   ],
   "source": [
    "def load_corpora(filepath, sep=';'):\n",
    "    print('Load: ', filepath)\n",
    "    corpora_helper = CorporaHelper(filepath, separator=sep)\n",
    "    count_joy = 0\n",
    "    count_sadness = 0\n",
    "    count_anger = 0\n",
    "    count_fear = 0\n",
    "    labels = []\n",
    "    texts = []\n",
    "    # preprocessing corpora\n",
    "    corpora_helper.translate_urls()\n",
    "    corpora_helper.translate_emoticons()\n",
    "    corpora_helper.translate_emojis()\n",
    "    corpora_helper.translate_email()\n",
    "    #corpora_helper.translate_mention()\n",
    "    corpora_helper.translate_html_tags()\n",
    "    #corpora_helper.translate_camel_case()\n",
    "    corpora_helper.translate_underscore()\n",
    "\n",
    "    corpora_helper.translate_string('-LRB-','(')\n",
    "    corpora_helper.translate_string('-RRB-',')')\n",
    "    corpora_helper.translate_string('`',\"'\") # ` to '\n",
    "    corpora_helper.translate_string(\"''\",'\"') # double '' to \"\n",
    "    corpora_helper.translate_contractions()\n",
    "    corpora_helper.translate_string(\"'\",\"\") # remove '\n",
    "    corpora_helper.translate_string(\"\\\\n\",\" \") # replace new lines with space\n",
    "\n",
    "    #corpora_helper.spell_correction()\n",
    "    corpora_helper.add_space_at_special_chars()\n",
    "    corpora_helper.add_space_at_special_chars(regexlist = r\"([#])\")\n",
    "    #corpora_helper.translate_to_lower()\n",
    "\n",
    "    # 0 anger\n",
    "    # 1 fear\n",
    "    # 2 joy\n",
    "    # 3 sadness\n",
    "    for index, corpus in corpora_helper.get_data().iterrows():\n",
    "        if corpus[CorporaProperties.EMOTION.value] == 'anger':\n",
    "            texts.append(corpus[CorporaProperties.CLEANED_CORPUS.value])\n",
    "            labels.append(0)\n",
    "            count_anger += 1\n",
    "        elif corpus[CorporaProperties.EMOTION.value] == 'fear':\n",
    "            texts.append(corpus[CorporaProperties.CLEANED_CORPUS.value])\n",
    "            labels.append(1)\n",
    "            count_fear += 1\n",
    "        elif corpus[CorporaProperties.EMOTION.value] == 'joy':\n",
    "            texts.append(corpus[CorporaProperties.CLEANED_CORPUS.value])\n",
    "            labels.append(2)\n",
    "            count_joy += 1\n",
    "        elif corpus[CorporaProperties.EMOTION.value] == 'sadness':\n",
    "            texts.append(corpus[CorporaProperties.CLEANED_CORPUS.value])\n",
    "            labels.append(3)\n",
    "            count_sadness += 1\n",
    "    print('number of anger labels: ',count_anger)\n",
    "    print('number of fear labels: ', count_fear)\n",
    "    print('number of joy labels: ', count_joy)\n",
    "    print('number of sadness labels: ', count_sadness)\n",
    "    print('----------------------------------------------------------------------')\n",
    "    return texts, labels\n",
    "    #max_data = count_anger + count_fear + count_joy + count_sadness\n",
    "\n",
    "test_file = \"\"\n",
    "sep = ';'\n",
    "word_embeddings_path = ''\n",
    "if use_mg_coprora == MULTIGENRE:\n",
    "    test_file = \"corpora/multigenre_450_test.csv\"\n",
    "    sep = ';'\n",
    "    maxlen = 100\n",
    "    print(\"Use MULTIGENRE test corpora\")\n",
    "elif use_mg_coprora == TWITTER:\n",
    "    test_file = \"corpora/twitter_2000_test.csv\"\n",
    "    sep = '\\t'\n",
    "    maxlen = 100\n",
    "    print(\"Use TWITTER test corpora\")\n",
    "else:\n",
    "    test_file = \"corpora/twitter_2000_mg_450_test.csv\"\n",
    "    sep = '\\t'\n",
    "    maxlen = 100\n",
    "    print(\"Use TWITTER and MULTIGENRE test corpora\")\n",
    "\n",
    "test_texts, test_labels = load_corpora(test_file, sep=sep)\n"
   ]
  },
  {
   "cell_type": "code",
   "execution_count": 43,
   "metadata": {},
   "outputs": [],
   "source": [
    "# Create train an test data set\n",
    "def create_data(texts, labels, maxlen):\n",
    "    ## Create one hot encoding\n",
    "    #max_words = 10000\n",
    "    #maxlen = 100 # max. number of words in sequences\n",
    "    #tokenizer = Tokenizer(num_words=max_words, filters = '')\n",
    "    #tokenizer.fit_on_texts(texts)\n",
    "    sequences = tokenizer.texts_to_sequences(texts)\n",
    "\n",
    "    word_i = tokenizer.word_index\n",
    "    print ('%s unique Tokens found.' % len(word_i))\n",
    "\n",
    "    data = pad_sequences(sequences, maxlen=maxlen)\n",
    "\n",
    "    labels_arr = np.asarray(labels)\n",
    "    print('Shape of data:', data.shape)\n",
    "    print('Shape of labels:', labels_arr.shape)\n",
    "    print('-------------------------------------------')\n",
    "\n",
    "    # mix the data\n",
    "    indices = np.arange(data.shape[0])\n",
    "    np.random.shuffle(indices)\n",
    "    data = data[indices]\n",
    "    labels_arr = labels_arr[indices]\n",
    "\n",
    "    # split in train and validate\n",
    "    x_data = data\n",
    "    y_data = labels_arr\n",
    "    return x_data, y_data"
   ]
  },
  {
   "cell_type": "code",
   "execution_count": 44,
   "metadata": {},
   "outputs": [
    {
     "name": "stdout",
     "output_type": "stream",
     "text": [
      "16580 unique Tokens found.\n",
      "Shape of data: (800, 100)\n",
      "Shape of labels: (800,)\n",
      "-------------------------------------------\n"
     ]
    }
   ],
   "source": [
    "# Test data\n",
    "#tokenizer.fit_on_texts(test_texts)\n",
    "x_test, y_test  = create_data(test_texts, test_labels, maxlen)"
   ]
  },
  {
   "cell_type": "code",
   "execution_count": 48,
   "metadata": {},
   "outputs": [
    {
     "name": "stdout",
     "output_type": "stream",
     "text": [
      "Evaluate model on test data\n",
      "800/800 [==============================] - 0s 617us/step\n",
      "test loss, test acc: [0.3087265622615814, 0.8987500071525574]\n"
     ]
    }
   ],
   "source": [
    "# Test final model\n",
    "print(\"Evaluate model on test data\")\n",
    "results = model.evaluate(x_test, y_test, batch_size=64)\n",
    "print(\"test loss, test acc:\", results)"
   ]
  },
  {
   "cell_type": "code",
   "execution_count": 49,
   "metadata": {
    "scrolled": false
   },
   "outputs": [
    {
     "name": "stdout",
     "output_type": "stream",
     "text": [
      "800/800 [==============================] - 0s 607us/step\n",
      "              precision    recall  f1-score   support\n",
      "\n",
      "       anger       0.88      0.91      0.89       200\n",
      "        fear       0.89      0.86      0.88       200\n",
      "         joy       0.92      0.96      0.94       200\n",
      "     sadness       0.91      0.86      0.88       200\n",
      "\n",
      "    accuracy                           0.90       800\n",
      "   macro avg       0.90      0.90      0.90       800\n",
      "weighted avg       0.90      0.90      0.90       800\n",
      "\n",
      "Precision overall:  0.8986042733475339\n",
      "Recall overall:  0.8987499999999999\n",
      "F1 overall:  0.8983228060669658\n",
      "--------------------------------------\n"
     ]
    },
    {
     "name": "stderr",
     "output_type": "stream",
     "text": [
      "C:\\Users\\COMMANDER\\.conda\\envs\\gputest\\lib\\site-packages\\sklearn\\utils\\validation.py:71: FutureWarning: Pass labels=[0, 1, 2, 3], target_names=['anger', 'fear', 'joy', 'sadness'] as keyword args. From version 0.25 passing these as positional arguments will result in an error\n",
      "  FutureWarning)\n"
     ]
    }
   ],
   "source": [
    "# Evaluation metrics\n",
    "y_pred = model.predict(x_test, batch_size=64, verbose=1)\n",
    "y_pred_bool = np.argmax(y_pred, axis=1)\n",
    "\n",
    "print(classification_report(y_test, y_pred_bool, [0,  1, 2, 3],['anger',  'fear', 'joy', 'sadness']))\n",
    "precision, recall, f1, support = precision_recall_fscore_support(y_test, y_pred_bool)\n",
    "mean_precision = np.mean(precision)\n",
    "mean_recall = np.mean(recall)\n",
    "mean_f1 = np.mean(f1)\n",
    "print(\"Precision overall: \", mean_precision)\n",
    "print(\"Recall overall: \", mean_recall)\n",
    "print(\"F1 overall: \", mean_f1)\n",
    "print(\"--------------------------------------\")"
   ]
  },
  {
   "cell_type": "code",
   "execution_count": 50,
   "metadata": {},
   "outputs": [
    {
     "data": {
      "image/png": "[encoded data removed]",
      "text/plain": [
       "<Figure size 600x600 with 1 Axes>"
      ]
     },
     "metadata": {},
     "output_type": "display_data"
    }
   ],
   "source": [
    "# Create confusion matrix\n",
    "from mlxtend.plotting import plot_confusion_matrix\n",
    "from sklearn.metrics import confusion_matrix, accuracy_score\n",
    "import matplotlib\n",
    "import matplotlib.pyplot as plt\n",
    "\n",
    "y_pred = model.predict_classes(x_test)\n",
    "accuracy_score(y_test, y_pred)\n",
    "matplotlib.rcParams.update(matplotlib.rcParamsDefault)\n",
    "plt.rc('font', family = 'Serif')\n",
    "\n",
    "mat = confusion_matrix(y_test, y_pred)\n",
    "fig, ax = plot_confusion_matrix(conf_mat=mat, figsize=(6,6), class_names = ['anger', 'fear', 'joy', 'sadness'], show_normed=False)\n",
    "plt.tight_layout()\n",
    "fig.savefig('Twitter to Twitter CM of fine-tuned BiLSTM-NN-Model.png')\n",
    "plt.show()\n"
   ]
  },
  {
   "cell_type": "code",
   "execution_count": null,
   "metadata": {},
   "outputs": [],
   "source": []
  },
  {
   "cell_type": "code",
   "execution_count": null,
   "metadata": {},
   "outputs": [],
   "source": []
  },
  {
   "cell_type": "code",
   "execution_count": null,
   "metadata": {},
   "outputs": [],
   "source": []
  },
  {
   "cell_type": "code",
   "execution_count": null,
   "metadata": {},
   "outputs": [],
   "source": []
  }
 ],
 "metadata": {
  "kernelspec": {
   "display_name": "gputest",
   "language": "python",
   "name": "gputest"
  },
  "language_info": {
   "codemirror_mode": {
    "name": "ipython",
    "version": 3
   },
   "file_extension": ".py",
   "mimetype": "text/x-python",
   "name": "python",
   "nbconvert_exporter": "python",
   "pygments_lexer": "ipython3",
   "version": "3.7.7"
  }
 },
 "nbformat": 4,
 "nbformat_minor": 4
}
